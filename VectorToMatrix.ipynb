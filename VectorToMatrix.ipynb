{
 "cells": [
  {
   "cell_type": "code",
   "execution_count": 3,
   "id": "ba4a27b4",
   "metadata": {},
   "outputs": [
    {
     "name": "stdout",
     "output_type": "stream",
     "text": [
      "[ 2  1 11]\n",
      "[ 1 -1  1]\n",
      "[-1  2  4]\n",
      "~\n",
      "[1 0 0]\n",
      "[0 1 0]\n",
      "[0 0 1]\n",
      "[ 2  1 11]\n",
      "[ 1 -1  1]\n",
      "[-1  2  2]\n",
      "~\n",
      "[1 0 4]\n",
      "[0 1 3]\n",
      "[0 0 0]\n"
     ]
    }
   ],
   "source": [
    "# Quiz 3\n",
    "from sage.all import *\n",
    "\n",
    "# Define our vector as stated in the problems\n",
    "u = vector([2, 1, -1])\n",
    "w = vector([1, -1, 2])\n",
    "\n",
    "b = vector([11, 1, 4])\n",
    "c = vector([11, 1, 2])\n",
    "\n",
    "# Without the transpose the matrix is rotated, where each vector is a row\n",
    "# and not a column\n",
    "# You can run this and inspect A to see it in action\n",
    "# A = matrix([u, w])\n",
    "\n",
    "# The .transpose() rotates the matrix back to the expected form\n",
    "A = matrix([u, w]).transpose()\n",
    "\n",
    "# Now we augment it with the vector 'b' which makes a new column on the right\n",
    "print(A.augment(b))\n",
    "print('~')\n",
    "# Then do it again but show the RREF form\n",
    "print(A.augment(b).rref())\n",
    "\n",
    "# Or to solve solutions to c, not b:\n",
    "print(A.augment(c))\n",
    "print('~')\n",
    "print(A.augment(c).rref())\n",
    "\n",
    "# Or, since half the class is CS:\n",
    "A = matrix([u, w]).transpose()\n",
    "for x in [b, c]:\n",
    "    print(A.augment(x))\n",
    "    print('~')\n",
    "    print(A.augment(x).rref())\n",
    "    print('')\n"
   ]
  },
  {
   "cell_type": "code",
   "execution_count": 20,
   "id": "28e5cd2e",
   "metadata": {},
   "outputs": [
    {
     "data": {
      "text/plain": [
       "(2, 1, -1)"
      ]
     },
     "execution_count": 20,
     "metadata": {},
     "output_type": "execute_result"
    }
   ],
   "source": [
    "u\n"
   ]
  }
 ],
 "metadata": {
  "kernelspec": {
   "display_name": "SageMath 9.5",
   "language": "sage",
   "name": "sagemath"
  },
  "language_info": {
   "codemirror_mode": {
    "name": "ipython",
    "version": 3
   },
   "file_extension": ".py",
   "mimetype": "text/x-python",
   "name": "python",
   "nbconvert_exporter": "python",
   "pygments_lexer": "ipython3",
   "version": "3.11.2"
  }
 },
 "nbformat": 4,
 "nbformat_minor": 5
}
